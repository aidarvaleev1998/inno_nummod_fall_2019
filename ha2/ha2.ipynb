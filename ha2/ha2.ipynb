{
 "cells": [
  {
   "cell_type": "code",
   "execution_count": 1,
   "metadata": {},
   "outputs": [],
   "source": [
    "import sympy as sp\n",
    "import numpy as np\n",
    "import matplotlib.pyplot as plt"
   ]
  },
  {
   "cell_type": "markdown",
   "metadata": {},
   "source": [
    "### 1. Formulate the statement of the interpolation problem with Cubic Spline [mathematical formula]"
   ]
  },
  {
   "cell_type": "markdown",
   "metadata": {},
   "source": [
    "Given grid function $y_i=f(x_i)$ on interval $[a, b]$ on grid $\\Omega{_n}$. We need to restore it by function $S_m(x)$, where $m$ - degree of polynomial, using piecewise-global method.\n",
    "\n",
    "\n",
    "Cubic spline is a union of $S_{3,i}(x)$ - algebraic polynomials of degree 3, defined on partial intervals $[x_i, x_{i+1}], i=0..n$-1 and concatenated together on all patial intevals in a way, that we could compose a function $S_m(x)=\\bigcup\\limits_{i=0}^{n-1}S_{m,i}(x)$, which is continuous and has continuous derivatives $S_m^{(p)}(x)$ till some $p=1,2,...$ on the whole interval $[a, b]$."
   ]
  },
  {
   "cell_type": "markdown",
   "metadata": {},
   "source": [
    "### 2. Formulate the functional and differential compatibility conditions [mathematical formula]"
   ]
  },
  {
   "cell_type": "markdown",
   "metadata": {},
   "source": [
    "$S_{m,i}^{(p)}(x_i) - f^{(p)}(x_i) = 0, i=0..n-1$\n",
    "\n",
    "$p = 0 \\Rightarrow Functional$\n",
    "\n",
    "$p > 0 \\Rightarrow Differential$"
   ]
  },
  {
   "cell_type": "markdown",
   "metadata": {},
   "source": [
    "### 3. Formulate stitching conditions [mathematical formula]"
   ]
  },
  {
   "cell_type": "markdown",
   "metadata": {},
   "source": [
    "$S_{m,i-1}^{(p)}(x)\\mid_{x=x_i}=S_{m,i}^{(p)}(x)\\mid_{x=x_i}, i=1..n-1$"
   ]
  },
  {
   "cell_type": "markdown",
   "metadata": {},
   "source": [
    "### 4. Justify why these conditions provide you with the required smoothness [thesis text, no more than 500 characters]"
   ]
  },
  {
   "cell_type": "markdown",
   "metadata": {},
   "source": [
    "Stiching conditions ensure that the composite function is continuous.\n",
    "\n",
    "Functional compatibility conditions ensure that the composite function solves the interpolation problem and passes through all grid points.\n",
    "\n",
    "Differential compatibility conditions ensure that the composite function is differentiable up to $p$."
   ]
  },
  {
   "cell_type": "markdown",
   "metadata": {},
   "source": [
    "### 5. Derive dependency formula: the dependence of the second derivatives at the grid nodes on the increment of the function (the function values difference on the grid nodes). [Mathematical formulas derivation. Detailed, with clear transitions]"
   ]
  },
  {
   "cell_type": "markdown",
   "metadata": {},
   "source": [
    "###### Stage 1: \n",
    "\n",
    "Find $a_{0, i}, a_{1, i}, a_{2, i}, a_{3, i}$ for $S_{3, i} = a_{0, i} + a_{1, i}(x - x_i) + a_{2, i}(x - x_i)^2 + a_{3, i}(x - x_i)^3$\n",
    "\n",
    "Solve the system of the following equations (funcional and differential compatibility conditions):\n",
    "\n",
    "$\\begin{cases}\n",
    "S_{3, i}(x_i)-f(x_i)=0\\\\\n",
    "S_{3, i}(x_{i + 1})-f(x_{i + 1})=0\\\\\n",
    "S_{3, i}''(x_i)-f''(x_i)=0\\\\\n",
    "S_{3, i}''(x_{i + 1})-f''(x_{i + 1})=0\n",
    "\\end{cases}$\n",
    "\n",
    "Let\n",
    "- $h_{i + 1} = x_{i + 1} - x_{i}$\n",
    "- $Δf_i = f_{i + 1} - f_{i}$\n",
    "- $Δm_i = m_{i + 1} - m_{i}$\n",
    "\n",
    "Then\n",
    "\n",
    "$\\begin{cases}\n",
    "a_{0, i} - f_i = 0 \\\\\n",
    "a_{0, i} + a_{1, i}h_{i + 1} + a_{2, i}h_{i + 1}^2 + a_{3, i}h_{i + 1}^3 - f_{i + 1} = 0 \\\\\n",
    "2a_{2, i} - m_i = 0\n",
    "a_{2, i} + 6a_{3, i}h_{i + 1} - m_{i + 1} = 0 \\quad \\Rightarrow m_i + 6a_{3, i}h_{i + 1} - m_{i + 1} = 0\n",
    "\\end{cases}$\n",
    "\n",
    "Then\n",
    "\n",
    "$\\begin{cases}\n",
    "a_{0, i} = f_i \\\\\n",
    "f_i + a_{1, i}h_{i + 1} + \\frac{m_i}{2}h_{i + 1}^2 + \\frac{Δm_i}{6h_{i + 1}}h_{i + 1}^3 - f_{i + 1} = 0 \\\\\n",
    "a_{2, i} = \\frac{m_i}{2} \\\\\n",
    "a_{3, i} = \\frac{Δm_i}{6h_{i + 1}}\n",
    "\\end{cases}$\n",
    "\n",
    "$f_i + a_{1, i}h_{i + 1} + \\frac{m_i}{2}h_{i + 1}^2 + \\frac{Δm_i}{6h_{i + 1}}h_{i + 1}^3 - f_{i + 1} = 0 \\\\ \n",
    "\\Rightarrow -\\frac{Δf_i}{h_{i + 1}} + a_{1, i} + \\frac{m_i}{2}h_{i + 1} + \\frac{Δm_i}{6}h_{i + 1} = 0 \\\\\n",
    "\\Rightarrow a_{1, i} = \\frac{Δf_i}{h_{i + 1}} - \\frac{h_{i + 1}}{2}m_i - \\frac{h_{i + 1}}{6}Δm_i$\n",
    "\n",
    "Then\n",
    "\n",
    "$\\begin{cases}\n",
    "a_{0, i} = f_i \\\\\n",
    "a_{1, i} = \\frac{Δf_i}{h_{i + 1}} - \\frac{h_{i + 1}}{2}m_i - \\frac{h_{i + 1}}{6}Δm_i \\\\\n",
    "a_{2, i} = \\frac{m_i}{2} \\\\\n",
    "a_{3, i} = \\frac{Δm_i}{6h_{i + 1}}\n",
    "\\end{cases}$\n",
    "\n",
    "\n",
    "\n",
    "so $S_{3, i} = f_i + (\\frac{Δf_i}{h_{i + 1}} - \\frac{h_{i + 1}}{2}m_i - \\frac{h_{i + 1}}{6}Δm_i)(x - x_i) + \\frac{m_i}{2}(x - x_i)^2 + \\frac{Δm_i}{6h_{i + 1}}(x - x_i)^3$\n",
    "\n",
    "###### Stage 2:\n",
    "\n",
    "$S_{3, i - 1}(x) = f_{i - 1} + (\\frac{Δf_{i - 1}}{h_{i}} - \\frac{h_{i}}{2}m_{i - 1} - \\frac{h_{i}}{6}Δm_{i - 1})(x - x_{i - 1}) + \\frac{m_{i - 1}}{2}(x - x_{i - 1})^2 + \\frac{Δm_{i - 1}}{6h_{i}}(x - x_{i - 1})^3$\n",
    "\n",
    "$S_{3, i - 1}^{'}(x_i) = \\frac{Δf_{i - 1}}{h_i} - \\frac{h_i}{2}m_{i - 1} - \\frac{h_i}{6}Δm_{i - 1} + h_im_{i - 1} + \\frac{h_i}{2}Δm_{i - 1}$\n",
    "\n",
    "$S_{3, i}^{'}(x_i) = \\frac{Δf_i}{h_{i + 1}} - \\frac{h_{i + 1}}{2}m_i - \\frac{h_{i + 1}}{6}Δm_i$\n",
    "\n",
    "By using stitching condition ($S_{3,i - 1}^{'}(x)|_{x=x_i} = S_{3,i}^{'}(x)|_{x=x_i}$):\n",
    "\n",
    "$\\frac{Δf_{i - 1}}{h_i} - \\frac{h_i}{2}m_{i - 1} - \\frac{h_i}{6}Δm_{i - 1} + h_im_{i - 1} + \\frac{h_i}{2}Δm_{i - 1} = \\frac{Δf_i}{h_{i + 1}} - \\frac{h_{i + 1}}{2}m_i - \\frac{h_{i + 1}}{6}Δm_i$\n",
    "\n",
    "$\\Rightarrow \\frac{h_i}{2}m_{i - 1} - \\frac{h_i}{6}m_{i} + \\frac{h_i}{6}m_{i - 1} + \\frac{h_i}{2}m_{i} - \\frac{h_i}{2}m_{i - 1} + \\frac{h_{i + 1}}{2}m_i - \\frac{h_{i + 1}}{6}m_{i + 1} + \\frac{h_{i + 1}}{6}m_i = \\frac{Δf_i}{h_{i + 1}} - \\frac{Δf_{i - 1}}{h_i}$\n",
    "\n",
    "so:\n",
    "\n",
    "$\\frac{h_i}{6}m_{i - 1} + \\frac{h_i + h_{i + 1}}{3}m_i + \\frac{h_{i + 1}}{6}m_{i + 1} = \\frac{Δf_i}{h_{i + 1}} - \\frac{Δf_{i - 1}}{h_i}, i = 1..n-1$"
   ]
  },
  {
   "cell_type": "markdown",
   "metadata": {},
   "source": [
    "### 6. Create a system of equations using this formula [Matrix representation. Mathematical formulas]"
   ]
  },
  {
   "cell_type": "markdown",
   "metadata": {},
   "source": [
    "$\\begin{bmatrix}\n",
    "h_1 & 2(h_1+h_2) & h_2 & 0 & .. & .. & 0\n",
    "\\\\ .. & .. & .. & .. & .. & .. & .. \\\\\n",
    ".. & 0 & h_i & 2(h_i+h_{i+1}) & h_{i+1} & 0 & ..\n",
    "\\\\ .. & .. & .. & .. & .. & .. & .. \\\\\n",
    "0 & .. & .. & 0 & h_{n-1} & 2(h_{n-1}+h_n) & h_n\n",
    "\\end{bmatrix}\n",
    "\\begin{bmatrix}\n",
    "m_0 \\\\ m_1 \\\\ .. \\\\ m_i \\\\ .. \\\\ m_{n-1} \\\\ m_n\n",
    "\\end{bmatrix}\n",
    "=6\n",
    "\\begin{bmatrix}\n",
    "\\frac{\\Delta f_1}{h_2}-\\frac{\\Delta f_0}{h_1}\n",
    "\\\\ .. \\\\\n",
    "\\frac{\\Delta f_i}{h_{i+1}}-\\frac{\\Delta f_{i-1}}{h_i}\n",
    "\\\\ .. \\\\\n",
    "\\frac{\\Delta f_{n-1}}{h_n}-\\frac{\\Delta f_{n-2}}{h_{n-1}}\n",
    "\\end{bmatrix}$"
   ]
  },
  {
   "cell_type": "markdown",
   "metadata": {},
   "source": [
    "### 7. Explain what is an unknown variable in this system. whether the system is closed with respect to an unknown variable. What is missing for closure. [Text, no more than 200 characters]"
   ]
  },
  {
   "cell_type": "markdown",
   "metadata": {},
   "source": [
    "The system has $n-2$ unknown variables ($m_i, i = 1..n-1$) and it is not closed with respect to $m_i, i = 0..n$. We may get the two missing equations by setting the second derivatives at the ends equal to 0, so $m_0=m_n=0$."
   ]
  },
  {
   "cell_type": "markdown",
   "metadata": {},
   "source": [
    "### 8. Bring this matrix to the appropriate form to use the Tridiagonal matrix algorithm [Mathematical derivation. Use Gauss Elimination]"
   ]
  },
  {
   "cell_type": "markdown",
   "metadata": {},
   "source": [
    "$\\begin{bmatrix}\n",
    "2(h_1+h_2) & h_2 & 0 & .. & 0 & 6(\\frac{\\Delta f_1}{h_2}-\\frac{\\Delta f_0}{h_1})\n",
    "\\\\ .. & .. & .. & .. & .. & .. \\\\\n",
    "0..0 & h_i & 2(h_i+h_{i+1}) & h_{i+1} & 0..0 & 6(\\frac{\\Delta f_i}{h_{i+1}}-\\frac{\\Delta f_{i-1}}{h_i})\n",
    "\\\\ .. & .. & .. & .. & .. & .. \\\\\n",
    "0 & .. & 0 & h_{n-1} & 2(h_{n-1}+h_n) & 6(\\frac{\\Delta f_{n-1}}{h_n}-\\frac{\\Delta f_{n-2}}{h_{n-1}})\n",
    "\\end{bmatrix}$\n",
    "\n"
   ]
  },
  {
   "cell_type": "markdown",
   "metadata": {},
   "source": [
    "Direct Gauss pass:\n",
    "\n",
    "$\\begin{bmatrix}\n",
    "1 & -P_1 & 0 & 0 & .. & Q_1 \\\\\n",
    "0 & 1 & -P_2 & 0 & .. & Q_2 \\\\\n",
    "0 & 0 & 1 & -P_3 & .. & Q_3 \\\\\n",
    ".. & .. & .. & .. & .. & .. \\\\\n",
    "0 & 0 & 0 & 1 & .. & Q_{n-1} \n",
    "\\end{bmatrix}$\n",
    "\n",
    "$P_1=\\frac{h_2}{-2(h_2+h_1)}$\n",
    "\n",
    "$Q_1=\\frac{6(\\frac{\\Delta f_1}{h_2}-\\frac{\\Delta f_0}{h_1})}{2(h_2+h_1)}$\n",
    "\n",
    "$P_i=\\frac{h_{i+1}}{-2(h_{i+1}+h_i)-h_iP_{i-1}}$\n",
    "\n",
    "$Q_i=\\frac{h_iQ_{i-1}-6(\\frac{\\Delta f_i}{h_{i+1}}-\\frac{\\Delta f_{i-1}}{h_i})}{-2(h_{i+1}+h_i)-h_iP_{i-1}}$\n",
    "\n",
    "Reverse pass:\n",
    "\n",
    "$x_{n-1}=Q_{n-1}$\n",
    "\n",
    "$x_i=P_ix_{i+1}+Q_i$"
   ]
  },
  {
   "cell_type": "markdown",
   "metadata": {},
   "source": [
    "### 9. Derive formulas of direct pass and reverse pass of Tridiagonal matrix algorithm [Mathematical formals]"
   ]
  },
  {
   "cell_type": "markdown",
   "metadata": {},
   "source": [
    "Expanded record of tridiagonal matrix is:  \n",
    "\n",
    "$\\alpha_ix_{i - 1} - \\beta_ix_i + \\gamma_ix_{i + 1} = \\delta_i, \\alpha_1=\\gamma_n=0, i=1..n$ (1)\n",
    "\n",
    "Suppose we have converted a tridiagonal matrix to an upper triangular matrix by gaussian elimination and got matrix from the previous section.\n",
    "Considering that the last row of this matrix is equal to the right side (so $x_{n-1} = Q_{n-1}$) and each row depends on the row below, we get recurrent formula: $x_i = P_ix_{i + 1} + Q_i, i = 1..n-1$ (2). This is the reverse pass formula.\n",
    "\n",
    "$x_{i - 1} = P_{i - 1}x_i + Q_{i - 1}$ (3)\n",
    "\n",
    "Putting (3) in (1): \n",
    "\n",
    "$\\alpha_i(P_{i - 1}x_i + Q_{i - 1}) - \\beta_ix_i + \\gamma_ix_{i + 1} = \\delta_i$\n",
    "\n",
    "$\\Rightarrow x_i = \\frac{-\\gamma_i}{\\alpha_iP_{i - 1} - \\beta_i}x_{i + 1} + \\frac{-\\alpha_iQ_{i - 1} + \\delta_i}{\\alpha_iP_{i - 1} - \\beta_i}$\n",
    "\n",
    "looking at (2), we get:\n",
    "\n",
    "$P_i = \\frac{\\gamma_i}{\\beta_i - \\alpha_iP_{i - 1}}$\n",
    "\n",
    "$Q_i = \\frac{\\alpha_iQ_{i - 1} - \\delta_i}{\\beta_i - \\alpha_iP_{i - 1}}$\n",
    "\n",
    "$P_i$ and $Q_i$ are direct pass formulas."
   ]
  },
  {
   "cell_type": "markdown",
   "metadata": {},
   "source": [
    "### 10. Implement code prototype of the future algorithm implementation. Classes/methods (if you use OOP), functions. The final implementation (on language chosen by you) should not differ from the functions declared in the prototype. [Python code]"
   ]
  },
  {
   "cell_type": "code",
   "execution_count": 4,
   "metadata": {},
   "outputs": [],
   "source": [
    "import numpy as np\n",
    "\n",
    "def solve_tdm(A, b, n):    \n",
    "    P = np.zeros(n)\n",
    "    Q = np.zeros(n)\n",
    "    x = np.zeros(n)\n",
    "    \n",
    "    P[0] = -A[2][0] / A[1][0]\n",
    "    Q[0] = b[0] / A[1][0]\n",
    "    for i in range(1, n):\n",
    "        P[i] = -A[2][i] / (P[i - 1] * A[0][i] + A[1][i])\n",
    "        Q[i] = (b[i] - Q[i - 1] * A[0][i]) / (P[i - 1] * A[0][i] + A[1][i])\n",
    " \n",
    "    x[n - 1] = Q[n - 1]\n",
    "    for i in range(n - 2, -1, -1):\n",
    "        x[i] = P[i] * x[i + 1] + Q[i]\n",
    "    \n",
    "    return x;\n",
    " \n",
    "def build_spline(x, f, n):\n",
    "    h = np.zeros(n)\n",
    "    df = np.zeros(n)\n",
    "    for i in range(0, n):\n",
    "        h[i] = x[i + 1] - x[i]\n",
    "        df[i] = f[i + 1] - f[i]\n",
    "    \n",
    "    A = np.zeros((3, n - 1))\n",
    "    b = np.zeros(n - 1)\n",
    " \n",
    "    for i in range(0, n - 1):\n",
    "        A[0][i] = h[i]\n",
    "        A[1][i] = 2 * (h[i] + h[i + 1])\n",
    "        A[2][i] = h[i + 1]\n",
    "        b[i] = 6 * (df[i + 1] / h[i + 1] - df[i] / h[i])\n",
    "    \n",
    "    A[0][0] = 0;\n",
    "    A[2][n - 2] = 0;\n",
    " \n",
    "    m = np.concatenate(([0], solve_tdm(A, b, n - 2), [0]))\n",
    " \n",
    "    coef = np.zeros((4, n))\n",
    "    \n",
    "    for i in range(0, n):\n",
    "        coef[0][i] = f[i]\n",
    "        coef[1][i] = (df[i] / h[i] - h[i] * m[i] / 2 - h[i] * (m[i + 1] - m[i]) / 6)\n",
    "        coef[2][i] = m[i] / 2\n",
    "        coef[3][i] = (m[i + 1] - m[i]) / (6 * h[i])\n",
    " \n",
    "    return coef\n",
    " \n",
    "def interpolate(q, coef, x):\n",
    "    i = -1\n",
    "    while x[i + 1] < q:\n",
    "        i += 1\n",
    "    \n",
    "    h = q - x[i]\n",
    "    return coef[0][i] + coef[1][i] * h + coef[2][i] * h**2 + coef[3][i] * h**3"
   ]
  },
  {
   "cell_type": "markdown",
   "metadata": {},
   "source": [
    "### 11. Derive formula of Cubic Spline method error [Mathematical formulas]"
   ]
  },
  {
   "cell_type": "markdown",
   "metadata": {},
   "source": [
    "Let the function $y = f(x)$ have a fourth-order continuous derivative on the interval $[a, b]$ and $M_4 = max_{[a, b]}|f^{(4)}(x)|$. Then, for cubic spline $S_3(x)$, satisfying the boundary conditions, the following error estimate holds: $max_{[a, b]}|f^{(p)}(x) - S_3^{(p)}(x)| ≤ С_pM_4h_{max}^{4 - p}, p=[1,2,3], h_{max} = max_{1 ≤ i ≤ n}h_i$"
   ]
  },
  {
   "cell_type": "markdown",
   "metadata": {},
   "source": [
    "### 12. Rate the complexity of the algorithm [Text, and rate in terms of big O, no more than 100 characters]"
   ]
  },
  {
   "cell_type": "markdown",
   "metadata": {},
   "source": [
    "solve_tdm ~ O(N) $\\Rightarrow$ build_spline ~ O(N)"
   ]
  },
  {
   "cell_type": "markdown",
   "metadata": {},
   "source": [
    "### Sosatb!"
   ]
  }
 ],
 "metadata": {
  "kernelspec": {
   "display_name": "Python 3",
   "language": "python",
   "name": "python3"
  },
  "language_info": {
   "codemirror_mode": {
    "name": "ipython",
    "version": 3
   },
   "file_extension": ".py",
   "mimetype": "text/x-python",
   "name": "python",
   "nbconvert_exporter": "python",
   "pygments_lexer": "ipython3",
   "version": "3.7.2"
  }
 },
 "nbformat": 4,
 "nbformat_minor": 2
}
